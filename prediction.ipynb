{
 "cells": [
  {
   "cell_type": "code",
   "execution_count": 1,
   "metadata": {
    "collapsed": true
   },
   "outputs": [],
   "source": [
    "import pandas as pd\n",
    "import numpy as np"
   ]
  },
  {
   "cell_type": "code",
   "execution_count": 3,
   "metadata": {},
   "outputs": [],
   "source": [
    "df_old = pd.read_csv('D1_2006-2007.csv')\n",
    "df_old = df_old[['HomeTeam', 'AwayTeam', 'FTR']]"
   ]
  },
  {
   "cell_type": "code",
   "execution_count": 32,
   "metadata": {
    "collapsed": true
   },
   "outputs": [],
   "source": [
    "def get_match_results(team, df):\n",
    "    num_wins = df.loc[((df.HomeTeam == team) & (df.FTR == 'H')) | ((df.AwayTeam == team) & (df.FTR == 'A'))].shape[0]\n",
    "    num_draws = df.loc[((df.HomeTeam == team) | (df.AwayTeam == team)) & (df.FTR == 'D')].shape[0]\n",
    "    num_loses = df.loc[((df.HomeTeam == team) & (df.FTR == 'A')) | ((df.AwayTeam == team) & (df.FTR == 'H'))].shape[0]\n",
    "    num_total = df.loc[(df.HomeTeam == team) | (df.AwayTeam == team)].shape[0]\n",
    "    return np.array([num_wins, num_draws, num_loses])"
   ]
  },
  {
   "cell_type": "code",
   "execution_count": 75,
   "metadata": {
    "collapsed": true
   },
   "outputs": [],
   "source": [
    "def get_probabilities(team1, team2, df):\n",
    "    probs_team1 = get_match_results(team1, df)\n",
    "    probs_team2 = get_match_results(team2, df)\n",
    "    \n",
    "    p_wl = probs_team1[0] * probs_team2[2]\n",
    "    p_lw = probs_team1[2] * probs_team2[0]\n",
    "    p_dd = probs_team1[1] * probs_team2[1]\n",
    "    \n",
    "    total = p_wl + p_lw + p_dd\n",
    "    if total == 0:\n",
    "        print(\"NÖÖÖÖ\")\n",
    "    \n",
    "    return np.array([p_wl, p_dd, p_lw]) / total"
   ]
  },
  {
   "cell_type": "code",
   "execution_count": 43,
   "metadata": {
    "collapsed": true
   },
   "outputs": [],
   "source": [
    "def get_expectations(probs, odds):\n",
    "    return np.multiply(probs, odds)"
   ]
  },
  {
   "cell_type": "code",
   "execution_count": 71,
   "metadata": {},
   "outputs": [],
   "source": [
    "def get_decision(team1, team2, df, odds):\n",
    "    p = get_probabilities(team1, team2, df)\n",
    "    e = get_expectations(p, odds)\n",
    "    if np.absolute(e[0] - e[2]) < 0.3:\n",
    "        return 1\n",
    "    return np.argmax(e)"
   ]
  },
  {
   "cell_type": "code",
   "execution_count": 73,
   "metadata": {},
   "outputs": [],
   "source": [
    "def evaluate(df_old, df):\n",
    "    money = 15\n",
    "    stake = 1\n",
    "    wrong = 0\n",
    "    for row_index, row in df.iterrows():\n",
    "        tipicoH = float(row['TipicoH'].replace(',', '.'))\n",
    "        tipicoD = float(row['TipicoD'].replace(',', '.'))\n",
    "        tipicoA = float(row['TipicoA'].replace(',', '.'))\n",
    "        decision = get_decision(row['HomeTeam'], row['AwayTeam'], df_old, np.array([tipicoH, tipicoD, tipicoA]))\n",
    "        if (decision == 0) & (row['FTR'] == 'H'):\n",
    "            money += stake * tipicoH - stake\n",
    "        elif (decision == 1) & (row['FTR'] == 'D'):\n",
    "            money += stake * tipicoD - stake\n",
    "        elif (decision == 2) & (row['FTR'] == 'A'):\n",
    "            money += stake * tipicoA - stake\n",
    "        else:\n",
    "            wrong += 1\n",
    "            money -= stake\n",
    "    \n",
    "    print(wrong)\n",
    "    return money - 15"
   ]
  },
  {
   "cell_type": "code",
   "execution_count": 76,
   "metadata": {},
   "outputs": [
    {
     "name": "stdout",
     "output_type": "stream",
     "text": [
      "NÖÖÖÖ\n",
      "NÖÖÖÖ\n",
      "NÖÖÖÖ\n",
      "NÖÖÖÖ\n",
      "NÖÖÖÖ\n",
      "NÖÖÖÖ\n"
     ]
    },
    {
     "name": "stderr",
     "output_type": "stream",
     "text": [
      "/usr/local/bin/Anaconda3/lib/python3.6/site-packages/ipykernel_launcher.py:13: RuntimeWarning: invalid value encountered in true_divide\n",
      "  del sys.path[0]\n"
     ]
    },
    {
     "name": "stdout",
     "output_type": "stream",
     "text": [
      "NÖÖÖÖ\n",
      "NÖÖÖÖ\n",
      "NÖÖÖÖ\n",
      "NÖÖÖÖ\n",
      "NÖÖÖÖ\n",
      "NÖÖÖÖ\n",
      "NÖÖÖÖ\n",
      "NÖÖÖÖ\n",
      "NÖÖÖÖ\n",
      "NÖÖÖÖ\n",
      "NÖÖÖÖ\n",
      "NÖÖÖÖ\n",
      "NÖÖÖÖ\n",
      "NÖÖÖÖ\n",
      "NÖÖÖÖ\n",
      "NÖÖÖÖ\n",
      "NÖÖÖÖ\n",
      "NÖÖÖÖ\n",
      "NÖÖÖÖ\n",
      "NÖÖÖÖ\n",
      "NÖÖÖÖ\n",
      "NÖÖÖÖ\n",
      "NÖÖÖÖ\n",
      "NÖÖÖÖ\n",
      "NÖÖÖÖ\n",
      "NÖÖÖÖ\n",
      "NÖÖÖÖ\n",
      "NÖÖÖÖ\n",
      "NÖÖÖÖ\n",
      "NÖÖÖÖ\n",
      "NÖÖÖÖ\n",
      "NÖÖÖÖ\n",
      "NÖÖÖÖ\n",
      "NÖÖÖÖ\n",
      "NÖÖÖÖ\n",
      "NÖÖÖÖ\n",
      "NÖÖÖÖ\n",
      "NÖÖÖÖ\n",
      "NÖÖÖÖ\n",
      "NÖÖÖÖ\n",
      "NÖÖÖÖ\n",
      "NÖÖÖÖ\n",
      "NÖÖÖÖ\n",
      "NÖÖÖÖ\n",
      "NÖÖÖÖ\n",
      "NÖÖÖÖ\n",
      "NÖÖÖÖ\n",
      "NÖÖÖÖ\n",
      "NÖÖÖÖ\n",
      "NÖÖÖÖ\n",
      "NÖÖÖÖ\n",
      "NÖÖÖÖ\n",
      "NÖÖÖÖ\n",
      "NÖÖÖÖ\n",
      "NÖÖÖÖ\n",
      "NÖÖÖÖ\n",
      "NÖÖÖÖ\n",
      "NÖÖÖÖ\n",
      "NÖÖÖÖ\n",
      "NÖÖÖÖ\n",
      "NÖÖÖÖ\n",
      "NÖÖÖÖ\n",
      "NÖÖÖÖ\n",
      "NÖÖÖÖ\n",
      "NÖÖÖÖ\n",
      "NÖÖÖÖ\n",
      "NÖÖÖÖ\n",
      "NÖÖÖÖ\n",
      "NÖÖÖÖ\n",
      "NÖÖÖÖ\n",
      "NÖÖÖÖ\n",
      "NÖÖÖÖ\n",
      "NÖÖÖÖ\n",
      "NÖÖÖÖ\n",
      "NÖÖÖÖ\n",
      "NÖÖÖÖ\n",
      "NÖÖÖÖ\n",
      "NÖÖÖÖ\n",
      "NÖÖÖÖ\n",
      "NÖÖÖÖ\n",
      "NÖÖÖÖ\n",
      "NÖÖÖÖ\n",
      "NÖÖÖÖ\n",
      "NÖÖÖÖ\n",
      "NÖÖÖÖ\n",
      "NÖÖÖÖ\n",
      "NÖÖÖÖ\n",
      "NÖÖÖÖ\n",
      "NÖÖÖÖ\n",
      "NÖÖÖÖ\n",
      "213\n",
      "-51.23000000000001\n"
     ]
    }
   ],
   "source": [
    "df = pd.read_csv('tipico_odds_2007-2008.csv')\n",
    "print(evaluate(df_old, df))"
   ]
  }
 ],
 "metadata": {
  "kernelspec": {
   "display_name": "Python 3",
   "language": "python",
   "name": "python3"
  },
  "language_info": {
   "codemirror_mode": {
    "name": "ipython",
    "version": 3
   },
   "file_extension": ".py",
   "mimetype": "text/x-python",
   "name": "python",
   "nbconvert_exporter": "python",
   "pygments_lexer": "ipython3",
   "version": "3.6.3"
  }
 },
 "nbformat": 4,
 "nbformat_minor": 2
}
